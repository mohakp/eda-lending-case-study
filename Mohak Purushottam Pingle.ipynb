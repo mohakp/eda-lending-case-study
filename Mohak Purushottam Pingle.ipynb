{
 "cells": [
  {
   "cell_type": "markdown",
   "metadata": {},
   "source": [
    "# Lending Club Case Study\n",
    "### Business Objectives\n",
    "This company is the largest online loan marketplace, facilitating personal loans, business loans, and financing of medical procedures. Borrowers can easily access lower interest rate loans through a fast online interface. \n",
    "\n",
    " \n",
    "\n",
    "Like most other lending companies, lending loans to ‘risky’ applicants is the largest source of financial loss (called credit loss). Credit loss is the amount of money lost by the lender when the borrower refuses to pay or runs away with the money owed. In other words, borrowers who default cause the largest amount of loss to the lenders. In this case, the customers labelled as 'charged-off' are the 'defaulters'. \n",
    "\n",
    " \n",
    "\n",
    "If one is able to identify these risky loan applicants, then such loans can be reduced thereby cutting down the amount of credit loss. Identification of such applicants using EDA is the aim of this case study.\n",
    "\n",
    " \n",
    "\n",
    "In other words, the company wants to understand the driving factors (or driver variables) behind loan default, i.e. the variables which are strong indicators of default.  The company can utilise this knowledge for its portfolio and risk assessment. \n",
    "\n"
   ]
  },
  {
   "cell_type": "code",
   "execution_count": 1,
   "metadata": {},
   "outputs": [],
   "source": [
    "# importing required libraries\n",
    "import pandas as pd\n",
    "import numpy as np\n",
    "import matplotlib.pyplot as plt\n",
    "import seaborn as sns\n",
    "import warnings \n",
    "warnings.filterwarnings('ignore')"
   ]
  },
  {
   "cell_type": "code",
   "execution_count": 2,
   "metadata": {},
   "outputs": [],
   "source": [
    "# Reading the dataset\n",
    "df = pd.read_csv('loan.csv')"
   ]
  },
  {
   "cell_type": "code",
   "execution_count": 3,
   "metadata": {},
   "outputs": [
    {
     "data": {
      "text/html": [
       "<div>\n",
       "<style scoped>\n",
       "    .dataframe tbody tr th:only-of-type {\n",
       "        vertical-align: middle;\n",
       "    }\n",
       "\n",
       "    .dataframe tbody tr th {\n",
       "        vertical-align: top;\n",
       "    }\n",
       "\n",
       "    .dataframe thead th {\n",
       "        text-align: right;\n",
       "    }\n",
       "</style>\n",
       "<table border=\"1\" class=\"dataframe\">\n",
       "  <thead>\n",
       "    <tr style=\"text-align: right;\">\n",
       "      <th></th>\n",
       "      <th>id</th>\n",
       "      <th>member_id</th>\n",
       "      <th>loan_amnt</th>\n",
       "      <th>funded_amnt</th>\n",
       "      <th>funded_amnt_inv</th>\n",
       "      <th>term</th>\n",
       "      <th>int_rate</th>\n",
       "      <th>installment</th>\n",
       "      <th>grade</th>\n",
       "      <th>sub_grade</th>\n",
       "      <th>...</th>\n",
       "      <th>num_tl_90g_dpd_24m</th>\n",
       "      <th>num_tl_op_past_12m</th>\n",
       "      <th>pct_tl_nvr_dlq</th>\n",
       "      <th>percent_bc_gt_75</th>\n",
       "      <th>pub_rec_bankruptcies</th>\n",
       "      <th>tax_liens</th>\n",
       "      <th>tot_hi_cred_lim</th>\n",
       "      <th>total_bal_ex_mort</th>\n",
       "      <th>total_bc_limit</th>\n",
       "      <th>total_il_high_credit_limit</th>\n",
       "    </tr>\n",
       "  </thead>\n",
       "  <tbody>\n",
       "    <tr>\n",
       "      <th>0</th>\n",
       "      <td>1077501</td>\n",
       "      <td>1296599</td>\n",
       "      <td>5000</td>\n",
       "      <td>5000</td>\n",
       "      <td>4975.0</td>\n",
       "      <td>36 months</td>\n",
       "      <td>10.65%</td>\n",
       "      <td>162.87</td>\n",
       "      <td>B</td>\n",
       "      <td>B2</td>\n",
       "      <td>...</td>\n",
       "      <td>NaN</td>\n",
       "      <td>NaN</td>\n",
       "      <td>NaN</td>\n",
       "      <td>NaN</td>\n",
       "      <td>0.0</td>\n",
       "      <td>0.0</td>\n",
       "      <td>NaN</td>\n",
       "      <td>NaN</td>\n",
       "      <td>NaN</td>\n",
       "      <td>NaN</td>\n",
       "    </tr>\n",
       "    <tr>\n",
       "      <th>1</th>\n",
       "      <td>1077430</td>\n",
       "      <td>1314167</td>\n",
       "      <td>2500</td>\n",
       "      <td>2500</td>\n",
       "      <td>2500.0</td>\n",
       "      <td>60 months</td>\n",
       "      <td>15.27%</td>\n",
       "      <td>59.83</td>\n",
       "      <td>C</td>\n",
       "      <td>C4</td>\n",
       "      <td>...</td>\n",
       "      <td>NaN</td>\n",
       "      <td>NaN</td>\n",
       "      <td>NaN</td>\n",
       "      <td>NaN</td>\n",
       "      <td>0.0</td>\n",
       "      <td>0.0</td>\n",
       "      <td>NaN</td>\n",
       "      <td>NaN</td>\n",
       "      <td>NaN</td>\n",
       "      <td>NaN</td>\n",
       "    </tr>\n",
       "    <tr>\n",
       "      <th>2</th>\n",
       "      <td>1077175</td>\n",
       "      <td>1313524</td>\n",
       "      <td>2400</td>\n",
       "      <td>2400</td>\n",
       "      <td>2400.0</td>\n",
       "      <td>36 months</td>\n",
       "      <td>15.96%</td>\n",
       "      <td>84.33</td>\n",
       "      <td>C</td>\n",
       "      <td>C5</td>\n",
       "      <td>...</td>\n",
       "      <td>NaN</td>\n",
       "      <td>NaN</td>\n",
       "      <td>NaN</td>\n",
       "      <td>NaN</td>\n",
       "      <td>0.0</td>\n",
       "      <td>0.0</td>\n",
       "      <td>NaN</td>\n",
       "      <td>NaN</td>\n",
       "      <td>NaN</td>\n",
       "      <td>NaN</td>\n",
       "    </tr>\n",
       "    <tr>\n",
       "      <th>3</th>\n",
       "      <td>1076863</td>\n",
       "      <td>1277178</td>\n",
       "      <td>10000</td>\n",
       "      <td>10000</td>\n",
       "      <td>10000.0</td>\n",
       "      <td>36 months</td>\n",
       "      <td>13.49%</td>\n",
       "      <td>339.31</td>\n",
       "      <td>C</td>\n",
       "      <td>C1</td>\n",
       "      <td>...</td>\n",
       "      <td>NaN</td>\n",
       "      <td>NaN</td>\n",
       "      <td>NaN</td>\n",
       "      <td>NaN</td>\n",
       "      <td>0.0</td>\n",
       "      <td>0.0</td>\n",
       "      <td>NaN</td>\n",
       "      <td>NaN</td>\n",
       "      <td>NaN</td>\n",
       "      <td>NaN</td>\n",
       "    </tr>\n",
       "    <tr>\n",
       "      <th>4</th>\n",
       "      <td>1075358</td>\n",
       "      <td>1311748</td>\n",
       "      <td>3000</td>\n",
       "      <td>3000</td>\n",
       "      <td>3000.0</td>\n",
       "      <td>60 months</td>\n",
       "      <td>12.69%</td>\n",
       "      <td>67.79</td>\n",
       "      <td>B</td>\n",
       "      <td>B5</td>\n",
       "      <td>...</td>\n",
       "      <td>NaN</td>\n",
       "      <td>NaN</td>\n",
       "      <td>NaN</td>\n",
       "      <td>NaN</td>\n",
       "      <td>0.0</td>\n",
       "      <td>0.0</td>\n",
       "      <td>NaN</td>\n",
       "      <td>NaN</td>\n",
       "      <td>NaN</td>\n",
       "      <td>NaN</td>\n",
       "    </tr>\n",
       "  </tbody>\n",
       "</table>\n",
       "<p>5 rows × 111 columns</p>\n",
       "</div>"
      ],
      "text/plain": [
       "        id  member_id  loan_amnt  funded_amnt  funded_amnt_inv        term  \\\n",
       "0  1077501    1296599       5000         5000           4975.0   36 months   \n",
       "1  1077430    1314167       2500         2500           2500.0   60 months   \n",
       "2  1077175    1313524       2400         2400           2400.0   36 months   \n",
       "3  1076863    1277178      10000        10000          10000.0   36 months   \n",
       "4  1075358    1311748       3000         3000           3000.0   60 months   \n",
       "\n",
       "  int_rate  installment grade sub_grade  ... num_tl_90g_dpd_24m  \\\n",
       "0   10.65%       162.87     B        B2  ...                NaN   \n",
       "1   15.27%        59.83     C        C4  ...                NaN   \n",
       "2   15.96%        84.33     C        C5  ...                NaN   \n",
       "3   13.49%       339.31     C        C1  ...                NaN   \n",
       "4   12.69%        67.79     B        B5  ...                NaN   \n",
       "\n",
       "  num_tl_op_past_12m pct_tl_nvr_dlq  percent_bc_gt_75 pub_rec_bankruptcies  \\\n",
       "0                NaN            NaN               NaN                  0.0   \n",
       "1                NaN            NaN               NaN                  0.0   \n",
       "2                NaN            NaN               NaN                  0.0   \n",
       "3                NaN            NaN               NaN                  0.0   \n",
       "4                NaN            NaN               NaN                  0.0   \n",
       "\n",
       "  tax_liens tot_hi_cred_lim total_bal_ex_mort total_bc_limit  \\\n",
       "0       0.0             NaN               NaN            NaN   \n",
       "1       0.0             NaN               NaN            NaN   \n",
       "2       0.0             NaN               NaN            NaN   \n",
       "3       0.0             NaN               NaN            NaN   \n",
       "4       0.0             NaN               NaN            NaN   \n",
       "\n",
       "  total_il_high_credit_limit  \n",
       "0                        NaN  \n",
       "1                        NaN  \n",
       "2                        NaN  \n",
       "3                        NaN  \n",
       "4                        NaN  \n",
       "\n",
       "[5 rows x 111 columns]"
      ]
     },
     "execution_count": 3,
     "metadata": {},
     "output_type": "execute_result"
    }
   ],
   "source": [
    "# Displaying the first 5 rows of the dataset\n",
    "df.head()"
   ]
  },
  {
   "cell_type": "code",
   "execution_count": 4,
   "metadata": {},
   "outputs": [
    {
     "data": {
      "text/plain": [
       "(39717, 111)"
      ]
     },
     "execution_count": 4,
     "metadata": {},
     "output_type": "execute_result"
    }
   ],
   "source": [
    "# Checking the shape of the dataset\n",
    "df.shape"
   ]
  },
  {
   "cell_type": "code",
   "execution_count": 9,
   "metadata": {},
   "outputs": [
    {
     "name": "stdout",
     "output_type": "stream",
     "text": [
      "<class 'pandas.core.frame.DataFrame'>\n",
      "RangeIndex: 39717 entries, 0 to 39716\n",
      "Columns: 111 entries, id to total_il_high_credit_limit\n",
      "dtypes: float64(74), int64(13), object(24)\n",
      "memory usage: 33.6+ MB\n"
     ]
    }
   ],
   "source": [
    "# Checking the info of the dataset\n",
    "df.info()"
   ]
  },
  {
   "cell_type": "code",
   "execution_count": 11,
   "metadata": {},
   "outputs": [
    {
     "data": {
      "text/plain": [
       "verification_status_joint    39717\n",
       "annual_inc_joint             39717\n",
       "mo_sin_old_rev_tl_op         39717\n",
       "mo_sin_old_il_acct           39717\n",
       "bc_util                      39717\n",
       "                             ...  \n",
       "delinq_amnt                      0\n",
       "policy_code                      0\n",
       "earliest_cr_line                 0\n",
       "delinq_2yrs                      0\n",
       "id                               0\n",
       "Length: 111, dtype: int64"
      ]
     },
     "execution_count": 11,
     "metadata": {},
     "output_type": "execute_result"
    }
   ],
   "source": [
    "# Checking the missing values in the dataset\n",
    "df.isnull().sum().sort_values(ascending=False)"
   ]
  },
  {
   "cell_type": "code",
   "execution_count": 7,
   "metadata": {},
   "outputs": [
    {
     "data": {
      "text/plain": [
       "Index(['id', 'member_id', 'loan_amnt', 'funded_amnt', 'funded_amnt_inv',\n",
       "       'term', 'int_rate', 'installment', 'grade', 'sub_grade',\n",
       "       ...\n",
       "       'num_tl_90g_dpd_24m', 'num_tl_op_past_12m', 'pct_tl_nvr_dlq',\n",
       "       'percent_bc_gt_75', 'pub_rec_bankruptcies', 'tax_liens',\n",
       "       'tot_hi_cred_lim', 'total_bal_ex_mort', 'total_bc_limit',\n",
       "       'total_il_high_credit_limit'],\n",
       "      dtype='object', length=111)"
      ]
     },
     "execution_count": 7,
     "metadata": {},
     "output_type": "execute_result"
    }
   ],
   "source": [
    "#Checking the columns of the dataset\n",
    "df.columns"
   ]
  },
  {
   "cell_type": "code",
   "execution_count": 10,
   "metadata": {},
   "outputs": [
    {
     "data": {
      "text/plain": [
       "id                            39717\n",
       "member_id                     39717\n",
       "loan_amnt                       885\n",
       "funded_amnt                    1041\n",
       "funded_amnt_inv                8205\n",
       "                              ...  \n",
       "tax_liens                         1\n",
       "tot_hi_cred_lim                   0\n",
       "total_bal_ex_mort                 0\n",
       "total_bc_limit                    0\n",
       "total_il_high_credit_limit        0\n",
       "Length: 111, dtype: int64"
      ]
     },
     "execution_count": 10,
     "metadata": {},
     "output_type": "execute_result"
    }
   ],
   "source": [
    "# Checking the unique values in the dataset\n",
    "df.nunique()"
   ]
  },
  {
   "cell_type": "code",
   "execution_count": 14,
   "metadata": {},
   "outputs": [
    {
     "data": {
      "text/plain": [
       "['mths_since_last_major_derog',\n",
       " 'annual_inc_joint',\n",
       " 'dti_joint',\n",
       " 'verification_status_joint',\n",
       " 'tot_coll_amt',\n",
       " 'tot_cur_bal',\n",
       " 'open_acc_6m',\n",
       " 'open_il_6m',\n",
       " 'open_il_12m',\n",
       " 'open_il_24m',\n",
       " 'mths_since_rcnt_il',\n",
       " 'total_bal_il',\n",
       " 'il_util',\n",
       " 'open_rv_12m',\n",
       " 'open_rv_24m',\n",
       " 'max_bal_bc',\n",
       " 'all_util',\n",
       " 'total_rev_hi_lim',\n",
       " 'inq_fi',\n",
       " 'total_cu_tl',\n",
       " 'inq_last_12m',\n",
       " 'acc_open_past_24mths',\n",
       " 'avg_cur_bal',\n",
       " 'bc_open_to_buy',\n",
       " 'bc_util',\n",
       " 'mo_sin_old_il_acct',\n",
       " 'mo_sin_old_rev_tl_op',\n",
       " 'mo_sin_rcnt_rev_tl_op',\n",
       " 'mo_sin_rcnt_tl',\n",
       " 'mort_acc',\n",
       " 'mths_since_recent_bc',\n",
       " 'mths_since_recent_bc_dlq',\n",
       " 'mths_since_recent_inq',\n",
       " 'mths_since_recent_revol_delinq',\n",
       " 'num_accts_ever_120_pd',\n",
       " 'num_actv_bc_tl',\n",
       " 'num_actv_rev_tl',\n",
       " 'num_bc_sats',\n",
       " 'num_bc_tl',\n",
       " 'num_il_tl',\n",
       " 'num_op_rev_tl',\n",
       " 'num_rev_accts',\n",
       " 'num_rev_tl_bal_gt_0',\n",
       " 'num_sats',\n",
       " 'num_tl_120dpd_2m',\n",
       " 'num_tl_30dpd',\n",
       " 'num_tl_90g_dpd_24m',\n",
       " 'num_tl_op_past_12m',\n",
       " 'pct_tl_nvr_dlq',\n",
       " 'percent_bc_gt_75',\n",
       " 'tot_hi_cred_lim',\n",
       " 'total_bal_ex_mort',\n",
       " 'total_bc_limit',\n",
       " 'total_il_high_credit_limit']"
      ]
     },
     "execution_count": 14,
     "metadata": {},
     "output_type": "execute_result"
    }
   ],
   "source": [
    "# Find the columns with all null values\n",
    "na_columns = df.columns[df.isnull().all()].to_list()\n",
    "na_columns"
   ]
  },
  {
   "cell_type": "code",
   "execution_count": 15,
   "metadata": {},
   "outputs": [],
   "source": [
    "# Dropping the columns with all null values\n",
    "df.drop(na_columns, axis=1, inplace=True)"
   ]
  },
  {
   "cell_type": "code",
   "execution_count": 16,
   "metadata": {},
   "outputs": [
    {
     "data": {
      "text/plain": [
       "(39717, 57)"
      ]
     },
     "execution_count": 16,
     "metadata": {},
     "output_type": "execute_result"
    }
   ],
   "source": [
    "# Checking the shape of the dataset again after dropping the columns containing all null values\n",
    "df.shape"
   ]
  },
  {
   "cell_type": "code",
   "execution_count": 18,
   "metadata": {},
   "outputs": [
    {
     "name": "stdout",
     "output_type": "stream",
     "text": [
      "<class 'pandas.core.frame.DataFrame'>\n",
      "RangeIndex: 39717 entries, 0 to 39716\n",
      "Data columns (total 57 columns):\n",
      " #   Column                      Non-Null Count  Dtype  \n",
      "---  ------                      --------------  -----  \n",
      " 0   id                          39717 non-null  int64  \n",
      " 1   member_id                   39717 non-null  int64  \n",
      " 2   loan_amnt                   39717 non-null  int64  \n",
      " 3   funded_amnt                 39717 non-null  int64  \n",
      " 4   funded_amnt_inv             39717 non-null  float64\n",
      " 5   term                        39717 non-null  object \n",
      " 6   int_rate                    39717 non-null  object \n",
      " 7   installment                 39717 non-null  float64\n",
      " 8   grade                       39717 non-null  object \n",
      " 9   sub_grade                   39717 non-null  object \n",
      " 10  emp_title                   37258 non-null  object \n",
      " 11  emp_length                  38642 non-null  object \n",
      " 12  home_ownership              39717 non-null  object \n",
      " 13  annual_inc                  39717 non-null  float64\n",
      " 14  verification_status         39717 non-null  object \n",
      " 15  issue_d                     39717 non-null  object \n",
      " 16  loan_status                 39717 non-null  object \n",
      " 17  pymnt_plan                  39717 non-null  object \n",
      " 18  url                         39717 non-null  object \n",
      " 19  desc                        26775 non-null  object \n",
      " 20  purpose                     39717 non-null  object \n",
      " 21  title                       39706 non-null  object \n",
      " 22  zip_code                    39717 non-null  object \n",
      " 23  addr_state                  39717 non-null  object \n",
      " 24  dti                         39717 non-null  float64\n",
      " 25  delinq_2yrs                 39717 non-null  int64  \n",
      " 26  earliest_cr_line            39717 non-null  object \n",
      " 27  inq_last_6mths              39717 non-null  int64  \n",
      " 28  mths_since_last_delinq      14035 non-null  float64\n",
      " 29  mths_since_last_record      2786 non-null   float64\n",
      " 30  open_acc                    39717 non-null  int64  \n",
      " 31  pub_rec                     39717 non-null  int64  \n",
      " 32  revol_bal                   39717 non-null  int64  \n",
      " 33  revol_util                  39667 non-null  object \n",
      " 34  total_acc                   39717 non-null  int64  \n",
      " 35  initial_list_status         39717 non-null  object \n",
      " 36  out_prncp                   39717 non-null  float64\n",
      " 37  out_prncp_inv               39717 non-null  float64\n",
      " 38  total_pymnt                 39717 non-null  float64\n",
      " 39  total_pymnt_inv             39717 non-null  float64\n",
      " 40  total_rec_prncp             39717 non-null  float64\n",
      " 41  total_rec_int               39717 non-null  float64\n",
      " 42  total_rec_late_fee          39717 non-null  float64\n",
      " 43  recoveries                  39717 non-null  float64\n",
      " 44  collection_recovery_fee     39717 non-null  float64\n",
      " 45  last_pymnt_d                39646 non-null  object \n",
      " 46  last_pymnt_amnt             39717 non-null  float64\n",
      " 47  next_pymnt_d                1140 non-null   object \n",
      " 48  last_credit_pull_d          39715 non-null  object \n",
      " 49  collections_12_mths_ex_med  39661 non-null  float64\n",
      " 50  policy_code                 39717 non-null  int64  \n",
      " 51  application_type            39717 non-null  object \n",
      " 52  acc_now_delinq              39717 non-null  int64  \n",
      " 53  chargeoff_within_12_mths    39661 non-null  float64\n",
      " 54  delinq_amnt                 39717 non-null  int64  \n",
      " 55  pub_rec_bankruptcies        39020 non-null  float64\n",
      " 56  tax_liens                   39678 non-null  float64\n",
      "dtypes: float64(20), int64(13), object(24)\n",
      "memory usage: 17.3+ MB\n"
     ]
    }
   ],
   "source": [
    "df.info()"
   ]
  },
  {
   "cell_type": "code",
   "execution_count": 22,
   "metadata": {},
   "outputs": [
    {
     "data": {
      "text/plain": [
       "loan_status\n",
       "Fully Paid     32950\n",
       "Charged Off     5627\n",
       "Current         1140\n",
       "Name: count, dtype: int64"
      ]
     },
     "execution_count": 22,
     "metadata": {},
     "output_type": "execute_result"
    }
   ],
   "source": [
    "# Checking loan_status column\n",
    "df['loan_status'].value_counts()"
   ]
  },
  {
   "cell_type": "code",
   "execution_count": 24,
   "metadata": {},
   "outputs": [
    {
     "data": {
      "text/plain": [
       "application_type\n",
       "INDIVIDUAL    39717\n",
       "Name: count, dtype: int64"
      ]
     },
     "execution_count": 24,
     "metadata": {},
     "output_type": "execute_result"
    }
   ],
   "source": [
    "# Checking the application_type column.. Seesm like it has only one value\n",
    "df['application_type'].value_counts()"
   ]
  },
  {
   "cell_type": "code",
   "execution_count": 25,
   "metadata": {},
   "outputs": [
    {
     "data": {
      "text/plain": [
       "next_pymnt_d                  38577\n",
       "mths_since_last_record        36931\n",
       "mths_since_last_delinq        25682\n",
       "desc                          12942\n",
       "emp_title                      2459\n",
       "emp_length                     1075\n",
       "pub_rec_bankruptcies            697\n",
       "last_pymnt_d                     71\n",
       "chargeoff_within_12_mths         56\n",
       "collections_12_mths_ex_med       56\n",
       "revol_util                       50\n",
       "tax_liens                        39\n",
       "title                            11\n",
       "last_credit_pull_d                2\n",
       "home_ownership                    0\n",
       "int_rate                          0\n",
       "out_prncp_inv                     0\n",
       "total_pymnt                       0\n",
       "total_pymnt_inv                   0\n",
       "total_rec_prncp                   0\n",
       "total_rec_int                     0\n",
       "total_rec_late_fee                0\n",
       "recoveries                        0\n",
       "collection_recovery_fee           0\n",
       "term                              0\n",
       "last_pymnt_amnt                   0\n",
       "initial_list_status               0\n",
       "funded_amnt_inv                   0\n",
       "policy_code                       0\n",
       "application_type                  0\n",
       "acc_now_delinq                    0\n",
       "funded_amnt                       0\n",
       "delinq_amnt                       0\n",
       "loan_amnt                         0\n",
       "out_prncp                         0\n",
       "total_acc                         0\n",
       "annual_inc                        0\n",
       "addr_state                        0\n",
       "verification_status               0\n",
       "issue_d                           0\n",
       "loan_status                       0\n",
       "pymnt_plan                        0\n",
       "url                               0\n",
       "sub_grade                         0\n",
       "purpose                           0\n",
       "zip_code                          0\n",
       "dti                               0\n",
       "installment                       0\n",
       "delinq_2yrs                       0\n",
       "earliest_cr_line                  0\n",
       "inq_last_6mths                    0\n",
       "member_id                         0\n",
       "grade                             0\n",
       "open_acc                          0\n",
       "pub_rec                           0\n",
       "revol_bal                         0\n",
       "id                                0\n",
       "dtype: int64"
      ]
     },
     "execution_count": 25,
     "metadata": {},
     "output_type": "execute_result"
    }
   ],
   "source": [
    "df.isnull().sum().sort_values(ascending=False)"
   ]
  },
  {
   "cell_type": "code",
   "execution_count": 26,
   "metadata": {},
   "outputs": [
    {
     "data": {
      "text/plain": [
       "(39717, 53)"
      ]
     },
     "execution_count": 26,
     "metadata": {},
     "output_type": "execute_result"
    }
   ],
   "source": [
    "# dropping the columns with more than 50% missing values\n",
    "df.drop(['next_pymnt_d','mths_since_last_record','mths_since_last_delinq','desc'],axis=1,inplace=True)\n",
    "df.shape"
   ]
  },
  {
   "cell_type": "code",
   "execution_count": 27,
   "metadata": {},
   "outputs": [
    {
     "name": "stdout",
     "output_type": "stream",
     "text": [
      "<class 'pandas.core.frame.DataFrame'>\n",
      "RangeIndex: 39717 entries, 0 to 39716\n",
      "Data columns (total 53 columns):\n",
      " #   Column                      Non-Null Count  Dtype  \n",
      "---  ------                      --------------  -----  \n",
      " 0   id                          39717 non-null  int64  \n",
      " 1   member_id                   39717 non-null  int64  \n",
      " 2   loan_amnt                   39717 non-null  int64  \n",
      " 3   funded_amnt                 39717 non-null  int64  \n",
      " 4   funded_amnt_inv             39717 non-null  float64\n",
      " 5   term                        39717 non-null  object \n",
      " 6   int_rate                    39717 non-null  object \n",
      " 7   installment                 39717 non-null  float64\n",
      " 8   grade                       39717 non-null  object \n",
      " 9   sub_grade                   39717 non-null  object \n",
      " 10  emp_title                   37258 non-null  object \n",
      " 11  emp_length                  38642 non-null  object \n",
      " 12  home_ownership              39717 non-null  object \n",
      " 13  annual_inc                  39717 non-null  float64\n",
      " 14  verification_status         39717 non-null  object \n",
      " 15  issue_d                     39717 non-null  object \n",
      " 16  loan_status                 39717 non-null  object \n",
      " 17  pymnt_plan                  39717 non-null  object \n",
      " 18  url                         39717 non-null  object \n",
      " 19  purpose                     39717 non-null  object \n",
      " 20  title                       39706 non-null  object \n",
      " 21  zip_code                    39717 non-null  object \n",
      " 22  addr_state                  39717 non-null  object \n",
      " 23  dti                         39717 non-null  float64\n",
      " 24  delinq_2yrs                 39717 non-null  int64  \n",
      " 25  earliest_cr_line            39717 non-null  object \n",
      " 26  inq_last_6mths              39717 non-null  int64  \n",
      " 27  open_acc                    39717 non-null  int64  \n",
      " 28  pub_rec                     39717 non-null  int64  \n",
      " 29  revol_bal                   39717 non-null  int64  \n",
      " 30  revol_util                  39667 non-null  object \n",
      " 31  total_acc                   39717 non-null  int64  \n",
      " 32  initial_list_status         39717 non-null  object \n",
      " 33  out_prncp                   39717 non-null  float64\n",
      " 34  out_prncp_inv               39717 non-null  float64\n",
      " 35  total_pymnt                 39717 non-null  float64\n",
      " 36  total_pymnt_inv             39717 non-null  float64\n",
      " 37  total_rec_prncp             39717 non-null  float64\n",
      " 38  total_rec_int               39717 non-null  float64\n",
      " 39  total_rec_late_fee          39717 non-null  float64\n",
      " 40  recoveries                  39717 non-null  float64\n",
      " 41  collection_recovery_fee     39717 non-null  float64\n",
      " 42  last_pymnt_d                39646 non-null  object \n",
      " 43  last_pymnt_amnt             39717 non-null  float64\n",
      " 44  last_credit_pull_d          39715 non-null  object \n",
      " 45  collections_12_mths_ex_med  39661 non-null  float64\n",
      " 46  policy_code                 39717 non-null  int64  \n",
      " 47  application_type            39717 non-null  object \n",
      " 48  acc_now_delinq              39717 non-null  int64  \n",
      " 49  chargeoff_within_12_mths    39661 non-null  float64\n",
      " 50  delinq_amnt                 39717 non-null  int64  \n",
      " 51  pub_rec_bankruptcies        39020 non-null  float64\n",
      " 52  tax_liens                   39678 non-null  float64\n",
      "dtypes: float64(18), int64(13), object(22)\n",
      "memory usage: 16.1+ MB\n"
     ]
    }
   ],
   "source": [
    "df.info()"
   ]
  },
  {
   "cell_type": "code",
   "execution_count": 28,
   "metadata": {},
   "outputs": [
    {
     "data": {
      "text/plain": [
       "emp_title                     2459\n",
       "emp_length                    1075\n",
       "pub_rec_bankruptcies           697\n",
       "last_pymnt_d                    71\n",
       "collections_12_mths_ex_med      56\n",
       "chargeoff_within_12_mths        56\n",
       "revol_util                      50\n",
       "tax_liens                       39\n",
       "title                           11\n",
       "last_credit_pull_d               2\n",
       "total_rec_prncp                  0\n",
       "out_prncp                        0\n",
       "initial_list_status              0\n",
       "out_prncp_inv                    0\n",
       "total_acc                        0\n",
       "total_pymnt                      0\n",
       "total_pymnt_inv                  0\n",
       "collection_recovery_fee          0\n",
       "total_rec_int                    0\n",
       "total_rec_late_fee               0\n",
       "recoveries                       0\n",
       "pub_rec                          0\n",
       "last_pymnt_amnt                  0\n",
       "policy_code                      0\n",
       "application_type                 0\n",
       "acc_now_delinq                   0\n",
       "delinq_amnt                      0\n",
       "revol_bal                        0\n",
       "id                               0\n",
       "open_acc                         0\n",
       "member_id                        0\n",
       "loan_amnt                        0\n",
       "funded_amnt                      0\n",
       "funded_amnt_inv                  0\n",
       "term                             0\n",
       "int_rate                         0\n",
       "installment                      0\n",
       "grade                            0\n",
       "sub_grade                        0\n",
       "home_ownership                   0\n",
       "annual_inc                       0\n",
       "verification_status              0\n",
       "issue_d                          0\n",
       "loan_status                      0\n",
       "pymnt_plan                       0\n",
       "url                              0\n",
       "purpose                          0\n",
       "zip_code                         0\n",
       "addr_state                       0\n",
       "dti                              0\n",
       "delinq_2yrs                      0\n",
       "earliest_cr_line                 0\n",
       "inq_last_6mths                   0\n",
       "dtype: int64"
      ]
     },
     "execution_count": 28,
     "metadata": {},
     "output_type": "execute_result"
    }
   ],
   "source": [
    "# Checking the missing values in the dataset again\n",
    "df.isnull().sum().sort_values(ascending=False)"
   ]
  },
  {
   "cell_type": "code",
   "execution_count": 31,
   "metadata": {},
   "outputs": [
    {
     "data": {
      "text/plain": [
       "emp_length\n",
       "10+ years    8879\n",
       "< 1 year     4583\n",
       "2 years      4388\n",
       "3 years      4095\n",
       "4 years      3436\n",
       "5 years      3282\n",
       "1 year       3240\n",
       "6 years      2229\n",
       "7 years      1773\n",
       "8 years      1479\n",
       "9 years      1258\n",
       "Name: count, dtype: int64"
      ]
     },
     "execution_count": 31,
     "metadata": {},
     "output_type": "execute_result"
    }
   ],
   "source": [
    "# Checking the emp_length column\n",
    "df['emp_length'].value_counts()"
   ]
  },
  {
   "cell_type": "code",
   "execution_count": 36,
   "metadata": {},
   "outputs": [],
   "source": [
    "# impuation of missing values in emp_length column\n",
    "df['emp_length'].fillna('Missing', inplace=True)"
   ]
  },
  {
   "cell_type": "markdown",
   "metadata": {},
   "source": []
  },
  {
   "cell_type": "code",
   "execution_count": 38,
   "metadata": {},
   "outputs": [
    {
     "data": {
      "text/plain": [
       "emp_length\n",
       "10+ years    8879\n",
       "< 1 year     4583\n",
       "2 years      4388\n",
       "3 years      4095\n",
       "4 years      3436\n",
       "5 years      3282\n",
       "1 year       3240\n",
       "6 years      2229\n",
       "7 years      1773\n",
       "8 years      1479\n",
       "9 years      1258\n",
       "Missing      1075\n",
       "Name: count, dtype: int64"
      ]
     },
     "execution_count": 38,
     "metadata": {},
     "output_type": "execute_result"
    }
   ],
   "source": [
    "# Checking the emp_length column after imputation\n",
    "df['emp_length'].value_counts()"
   ]
  },
  {
   "cell_type": "code",
   "execution_count": 39,
   "metadata": {},
   "outputs": [
    {
     "data": {
      "text/plain": [
       "emp_title                     2459\n",
       "pub_rec_bankruptcies           697\n",
       "last_pymnt_d                    71\n",
       "chargeoff_within_12_mths        56\n",
       "collections_12_mths_ex_med      56\n",
       "revol_util                      50\n",
       "tax_liens                       39\n",
       "title                           11\n",
       "last_credit_pull_d               2\n",
       "total_rec_prncp                  0\n",
       "total_acc                        0\n",
       "initial_list_status              0\n",
       "out_prncp                        0\n",
       "out_prncp_inv                    0\n",
       "total_pymnt                      0\n",
       "total_pymnt_inv                  0\n",
       "collection_recovery_fee          0\n",
       "total_rec_int                    0\n",
       "total_rec_late_fee               0\n",
       "recoveries                       0\n",
       "pub_rec                          0\n",
       "last_pymnt_amnt                  0\n",
       "policy_code                      0\n",
       "application_type                 0\n",
       "acc_now_delinq                   0\n",
       "delinq_amnt                      0\n",
       "revol_bal                        0\n",
       "id                               0\n",
       "open_acc                         0\n",
       "annual_inc                       0\n",
       "loan_amnt                        0\n",
       "funded_amnt                      0\n",
       "funded_amnt_inv                  0\n",
       "term                             0\n",
       "int_rate                         0\n",
       "installment                      0\n",
       "grade                            0\n",
       "sub_grade                        0\n",
       "emp_length                       0\n",
       "home_ownership                   0\n",
       "verification_status              0\n",
       "member_id                        0\n",
       "issue_d                          0\n",
       "loan_status                      0\n",
       "pymnt_plan                       0\n",
       "url                              0\n",
       "purpose                          0\n",
       "zip_code                         0\n",
       "addr_state                       0\n",
       "dti                              0\n",
       "delinq_2yrs                      0\n",
       "earliest_cr_line                 0\n",
       "inq_last_6mths                   0\n",
       "dtype: int64"
      ]
     },
     "execution_count": 39,
     "metadata": {},
     "output_type": "execute_result"
    }
   ],
   "source": [
    "# checking the missing values in the dataset again\n",
    "df.isnull().sum().sort_values(ascending=False)"
   ]
  },
  {
   "cell_type": "code",
   "execution_count": 40,
   "metadata": {},
   "outputs": [
    {
     "data": {
      "text/plain": [
       "pub_rec_bankruptcies\n",
       "0.0    37339\n",
       "1.0     1674\n",
       "2.0        7\n",
       "Name: count, dtype: int64"
      ]
     },
     "execution_count": 40,
     "metadata": {},
     "output_type": "execute_result"
    }
   ],
   "source": [
    "#Checking pub_rec_bankruptcies column\n",
    "df['pub_rec_bankruptcies'].value_counts()"
   ]
  },
  {
   "cell_type": "code",
   "execution_count": 41,
   "metadata": {},
   "outputs": [],
   "source": [
    "# Imputing the missing values in pub_rec_bankruptcies column\n",
    "df['pub_rec_bankruptcies'].fillna(0, inplace=True)"
   ]
  },
  {
   "cell_type": "code",
   "execution_count": 42,
   "metadata": {},
   "outputs": [
    {
     "data": {
      "text/plain": [
       "emp_title                     2459\n",
       "last_pymnt_d                    71\n",
       "chargeoff_within_12_mths        56\n",
       "collections_12_mths_ex_med      56\n",
       "revol_util                      50\n",
       "tax_liens                       39\n",
       "title                           11\n",
       "last_credit_pull_d               2\n",
       "total_rec_int                    0\n",
       "total_acc                        0\n",
       "initial_list_status              0\n",
       "out_prncp                        0\n",
       "out_prncp_inv                    0\n",
       "total_pymnt                      0\n",
       "total_pymnt_inv                  0\n",
       "total_rec_prncp                  0\n",
       "collection_recovery_fee          0\n",
       "total_rec_late_fee               0\n",
       "recoveries                       0\n",
       "pub_rec                          0\n",
       "last_pymnt_amnt                  0\n",
       "policy_code                      0\n",
       "application_type                 0\n",
       "acc_now_delinq                   0\n",
       "delinq_amnt                      0\n",
       "pub_rec_bankruptcies             0\n",
       "revol_bal                        0\n",
       "id                               0\n",
       "open_acc                         0\n",
       "annual_inc                       0\n",
       "loan_amnt                        0\n",
       "funded_amnt                      0\n",
       "funded_amnt_inv                  0\n",
       "term                             0\n",
       "int_rate                         0\n",
       "installment                      0\n",
       "grade                            0\n",
       "sub_grade                        0\n",
       "emp_length                       0\n",
       "home_ownership                   0\n",
       "verification_status              0\n",
       "member_id                        0\n",
       "issue_d                          0\n",
       "loan_status                      0\n",
       "pymnt_plan                       0\n",
       "url                              0\n",
       "purpose                          0\n",
       "zip_code                         0\n",
       "addr_state                       0\n",
       "dti                              0\n",
       "delinq_2yrs                      0\n",
       "earliest_cr_line                 0\n",
       "inq_last_6mths                   0\n",
       "dtype: int64"
      ]
     },
     "execution_count": 42,
     "metadata": {},
     "output_type": "execute_result"
    }
   ],
   "source": [
    "# Checking the missing values in the dataset again\n",
    "df.isnull().sum().sort_values(ascending=False)"
   ]
  },
  {
   "cell_type": "code",
   "execution_count": 43,
   "metadata": {},
   "outputs": [
    {
     "data": {
      "text/plain": [
       "last_credit_pull_d\n",
       "May-16    10308\n",
       "Apr-16     2547\n",
       "Mar-16     1123\n",
       "Feb-13      843\n",
       "Feb-16      736\n",
       "          ...  \n",
       "May-08        1\n",
       "Jun-08        1\n",
       "Jul-08        1\n",
       "May-07        1\n",
       "Jul-07        1\n",
       "Name: count, Length: 106, dtype: int64"
      ]
     },
     "execution_count": 43,
     "metadata": {},
     "output_type": "execute_result"
    }
   ],
   "source": [
    "# Checking the last_credit_pull_d column\n",
    "df['last_credit_pull_d'].value_counts()"
   ]
  },
  {
   "cell_type": "code",
   "execution_count": 44,
   "metadata": {},
   "outputs": [
    {
     "name": "stdout",
     "output_type": "stream",
     "text": [
      "<class 'pandas.core.frame.DataFrame'>\n",
      "RangeIndex: 39717 entries, 0 to 39716\n",
      "Data columns (total 53 columns):\n",
      " #   Column                      Non-Null Count  Dtype  \n",
      "---  ------                      --------------  -----  \n",
      " 0   id                          39717 non-null  int64  \n",
      " 1   member_id                   39717 non-null  int64  \n",
      " 2   loan_amnt                   39717 non-null  int64  \n",
      " 3   funded_amnt                 39717 non-null  int64  \n",
      " 4   funded_amnt_inv             39717 non-null  float64\n",
      " 5   term                        39717 non-null  object \n",
      " 6   int_rate                    39717 non-null  object \n",
      " 7   installment                 39717 non-null  float64\n",
      " 8   grade                       39717 non-null  object \n",
      " 9   sub_grade                   39717 non-null  object \n",
      " 10  emp_title                   37258 non-null  object \n",
      " 11  emp_length                  39717 non-null  object \n",
      " 12  home_ownership              39717 non-null  object \n",
      " 13  annual_inc                  39717 non-null  float64\n",
      " 14  verification_status         39717 non-null  object \n",
      " 15  issue_d                     39717 non-null  object \n",
      " 16  loan_status                 39717 non-null  object \n",
      " 17  pymnt_plan                  39717 non-null  object \n",
      " 18  url                         39717 non-null  object \n",
      " 19  purpose                     39717 non-null  object \n",
      " 20  title                       39706 non-null  object \n",
      " 21  zip_code                    39717 non-null  object \n",
      " 22  addr_state                  39717 non-null  object \n",
      " 23  dti                         39717 non-null  float64\n",
      " 24  delinq_2yrs                 39717 non-null  int64  \n",
      " 25  earliest_cr_line            39717 non-null  object \n",
      " 26  inq_last_6mths              39717 non-null  int64  \n",
      " 27  open_acc                    39717 non-null  int64  \n",
      " 28  pub_rec                     39717 non-null  int64  \n",
      " 29  revol_bal                   39717 non-null  int64  \n",
      " 30  revol_util                  39667 non-null  object \n",
      " 31  total_acc                   39717 non-null  int64  \n",
      " 32  initial_list_status         39717 non-null  object \n",
      " 33  out_prncp                   39717 non-null  float64\n",
      " 34  out_prncp_inv               39717 non-null  float64\n",
      " 35  total_pymnt                 39717 non-null  float64\n",
      " 36  total_pymnt_inv             39717 non-null  float64\n",
      " 37  total_rec_prncp             39717 non-null  float64\n",
      " 38  total_rec_int               39717 non-null  float64\n",
      " 39  total_rec_late_fee          39717 non-null  float64\n",
      " 40  recoveries                  39717 non-null  float64\n",
      " 41  collection_recovery_fee     39717 non-null  float64\n",
      " 42  last_pymnt_d                39646 non-null  object \n",
      " 43  last_pymnt_amnt             39717 non-null  float64\n",
      " 44  last_credit_pull_d          39715 non-null  object \n",
      " 45  collections_12_mths_ex_med  39661 non-null  float64\n",
      " 46  policy_code                 39717 non-null  int64  \n",
      " 47  application_type            39717 non-null  object \n",
      " 48  acc_now_delinq              39717 non-null  int64  \n",
      " 49  chargeoff_within_12_mths    39661 non-null  float64\n",
      " 50  delinq_amnt                 39717 non-null  int64  \n",
      " 51  pub_rec_bankruptcies        39717 non-null  float64\n",
      " 52  tax_liens                   39678 non-null  float64\n",
      "dtypes: float64(18), int64(13), object(22)\n",
      "memory usage: 16.1+ MB\n"
     ]
    }
   ],
   "source": [
    "df.info()"
   ]
  },
  {
   "cell_type": "code",
   "execution_count": 45,
   "metadata": {},
   "outputs": [
    {
     "data": {
      "text/plain": [
       "(39715, 53)"
      ]
     },
     "execution_count": 45,
     "metadata": {},
     "output_type": "execute_result"
    }
   ],
   "source": [
    "df = df[~df['last_credit_pull_d'].isnull()] # Removing the rows with missing values in last_credit_pull_d column\n",
    "df.shape"
   ]
  },
  {
   "cell_type": "code",
   "execution_count": 46,
   "metadata": {},
   "outputs": [
    {
     "data": {
      "text/plain": [
       "emp_title                     2457\n",
       "last_pymnt_d                    71\n",
       "chargeoff_within_12_mths        56\n",
       "collections_12_mths_ex_med      56\n",
       "revol_util                      50\n",
       "tax_liens                       39\n",
       "title                           11\n",
       "total_rec_int                    0\n",
       "total_acc                        0\n",
       "initial_list_status              0\n",
       "out_prncp                        0\n",
       "out_prncp_inv                    0\n",
       "total_pymnt                      0\n",
       "total_pymnt_inv                  0\n",
       "total_rec_prncp                  0\n",
       "collection_recovery_fee          0\n",
       "total_rec_late_fee               0\n",
       "recoveries                       0\n",
       "pub_rec                          0\n",
       "last_pymnt_amnt                  0\n",
       "last_credit_pull_d               0\n",
       "policy_code                      0\n",
       "application_type                 0\n",
       "acc_now_delinq                   0\n",
       "delinq_amnt                      0\n",
       "pub_rec_bankruptcies             0\n",
       "revol_bal                        0\n",
       "id                               0\n",
       "open_acc                         0\n",
       "annual_inc                       0\n",
       "loan_amnt                        0\n",
       "funded_amnt                      0\n",
       "funded_amnt_inv                  0\n",
       "term                             0\n",
       "int_rate                         0\n",
       "installment                      0\n",
       "grade                            0\n",
       "sub_grade                        0\n",
       "emp_length                       0\n",
       "home_ownership                   0\n",
       "verification_status              0\n",
       "member_id                        0\n",
       "issue_d                          0\n",
       "loan_status                      0\n",
       "pymnt_plan                       0\n",
       "url                              0\n",
       "purpose                          0\n",
       "zip_code                         0\n",
       "addr_state                       0\n",
       "dti                              0\n",
       "delinq_2yrs                      0\n",
       "earliest_cr_line                 0\n",
       "inq_last_6mths                   0\n",
       "dtype: int64"
      ]
     },
     "execution_count": 46,
     "metadata": {},
     "output_type": "execute_result"
    }
   ],
   "source": [
    "# Checking the missing values in the dataset again\n",
    "df.isnull().sum().sort_values(ascending=False)"
   ]
  },
  {
   "cell_type": "code",
   "execution_count": 47,
   "metadata": {},
   "outputs": [],
   "source": [
    "# imputing the missing values in the emp_title column\n",
    "df['emp_title'].fillna('Missing', inplace=True)"
   ]
  },
  {
   "cell_type": "code",
   "execution_count": 48,
   "metadata": {},
   "outputs": [
    {
     "data": {
      "text/plain": [
       "last_pymnt_d                  71\n",
       "chargeoff_within_12_mths      56\n",
       "collections_12_mths_ex_med    56\n",
       "revol_util                    50\n",
       "tax_liens                     39\n",
       "title                         11\n",
       "total_rec_int                  0\n",
       "revol_bal                      0\n",
       "total_acc                      0\n",
       "initial_list_status            0\n",
       "out_prncp                      0\n",
       "out_prncp_inv                  0\n",
       "total_pymnt                    0\n",
       "total_pymnt_inv                0\n",
       "total_rec_prncp                0\n",
       "recoveries                     0\n",
       "total_rec_late_fee             0\n",
       "open_acc                       0\n",
       "collection_recovery_fee        0\n",
       "last_pymnt_amnt                0\n",
       "last_credit_pull_d             0\n",
       "policy_code                    0\n",
       "application_type               0\n",
       "acc_now_delinq                 0\n",
       "delinq_amnt                    0\n",
       "pub_rec_bankruptcies           0\n",
       "pub_rec                        0\n",
       "id                             0\n",
       "member_id                      0\n",
       "home_ownership                 0\n",
       "loan_amnt                      0\n",
       "funded_amnt                    0\n",
       "funded_amnt_inv                0\n",
       "term                           0\n",
       "int_rate                       0\n",
       "installment                    0\n",
       "grade                          0\n",
       "sub_grade                      0\n",
       "emp_title                      0\n",
       "emp_length                     0\n",
       "annual_inc                     0\n",
       "earliest_cr_line               0\n",
       "verification_status            0\n",
       "issue_d                        0\n",
       "loan_status                    0\n",
       "pymnt_plan                     0\n",
       "url                            0\n",
       "purpose                        0\n",
       "zip_code                       0\n",
       "addr_state                     0\n",
       "dti                            0\n",
       "delinq_2yrs                    0\n",
       "inq_last_6mths                 0\n",
       "dtype: int64"
      ]
     },
     "execution_count": 48,
     "metadata": {},
     "output_type": "execute_result"
    }
   ],
   "source": [
    "# Checking the missing values in the dataset again\n",
    "df.isnull().sum().sort_values(ascending=False)"
   ]
  },
  {
   "cell_type": "code",
   "execution_count": 49,
   "metadata": {},
   "outputs": [
    {
     "data": {
      "text/plain": [
       "last_pymnt_d\n",
       "May-16    1256\n",
       "Mar-13    1026\n",
       "Dec-14     945\n",
       "May-13     907\n",
       "Feb-13     869\n",
       "          ... \n",
       "Jun-08      10\n",
       "Nov-08      10\n",
       "Mar-08       5\n",
       "Jan-08       4\n",
       "Feb-08       1\n",
       "Name: count, Length: 101, dtype: int64"
      ]
     },
     "execution_count": 49,
     "metadata": {},
     "output_type": "execute_result"
    }
   ],
   "source": [
    "df['last_pymnt_d'].value_counts()"
   ]
  },
  {
   "cell_type": "code",
   "execution_count": 50,
   "metadata": {},
   "outputs": [
    {
     "data": {
      "text/plain": [
       "(39644, 53)"
      ]
     },
     "execution_count": 50,
     "metadata": {},
     "output_type": "execute_result"
    }
   ],
   "source": [
    "df = df[~df['last_pymnt_d'].isnull()] # Removing the rows with missing values in last_pymnt_d column\n",
    "df.shape"
   ]
  },
  {
   "cell_type": "code",
   "execution_count": 52,
   "metadata": {},
   "outputs": [
    {
     "data": {
      "text/plain": [
       "chargeoff_within_12_mths      56\n",
       "collections_12_mths_ex_med    56\n",
       "revol_util                    46\n",
       "tax_liens                     39\n",
       "title                         11\n",
       "total_rec_int                  0\n",
       "revol_bal                      0\n",
       "total_acc                      0\n",
       "initial_list_status            0\n",
       "out_prncp                      0\n",
       "out_prncp_inv                  0\n",
       "total_pymnt                    0\n",
       "total_pymnt_inv                0\n",
       "total_rec_prncp                0\n",
       "recoveries                     0\n",
       "total_rec_late_fee             0\n",
       "open_acc                       0\n",
       "collection_recovery_fee        0\n",
       "last_pymnt_d                   0\n",
       "last_pymnt_amnt                0\n",
       "last_credit_pull_d             0\n",
       "policy_code                    0\n",
       "application_type               0\n",
       "acc_now_delinq                 0\n",
       "delinq_amnt                    0\n",
       "pub_rec_bankruptcies           0\n",
       "pub_rec                        0\n",
       "id                             0\n",
       "member_id                      0\n",
       "home_ownership                 0\n",
       "loan_amnt                      0\n",
       "funded_amnt                    0\n",
       "funded_amnt_inv                0\n",
       "term                           0\n",
       "int_rate                       0\n",
       "installment                    0\n",
       "grade                          0\n",
       "sub_grade                      0\n",
       "emp_title                      0\n",
       "emp_length                     0\n",
       "annual_inc                     0\n",
       "earliest_cr_line               0\n",
       "verification_status            0\n",
       "issue_d                        0\n",
       "loan_status                    0\n",
       "pymnt_plan                     0\n",
       "url                            0\n",
       "purpose                        0\n",
       "zip_code                       0\n",
       "addr_state                     0\n",
       "dti                            0\n",
       "delinq_2yrs                    0\n",
       "inq_last_6mths                 0\n",
       "dtype: int64"
      ]
     },
     "execution_count": 52,
     "metadata": {},
     "output_type": "execute_result"
    }
   ],
   "source": [
    "# Checking the missing values in the dataset again\n",
    "df.isnull().sum().sort_values(ascending=False)"
   ]
  },
  {
   "cell_type": "code",
   "execution_count": 53,
   "metadata": {},
   "outputs": [],
   "source": [
    "df = df[~df['chargeoff_within_12_mths'].isnull()] # Removing the rows with missing values in chargeoff_within_12_mths column"
   ]
  },
  {
   "cell_type": "code",
   "execution_count": 54,
   "metadata": {},
   "outputs": [],
   "source": [
    "df = df[~df['collections_12_mths_ex_med'].isnull()] # Removing the rows with missing values in collections_12_mths_ex_med column"
   ]
  },
  {
   "cell_type": "code",
   "execution_count": 55,
   "metadata": {},
   "outputs": [],
   "source": [
    "df = df[~df['revol_util'].isnull()] # Removing the rows with missing values in revol_util column"
   ]
  },
  {
   "cell_type": "code",
   "execution_count": 56,
   "metadata": {},
   "outputs": [],
   "source": [
    "df = df[~df['tax_liens'].isnull()] # Removing the rows with missing values in tax_liens column"
   ]
  },
  {
   "cell_type": "code",
   "execution_count": 57,
   "metadata": {},
   "outputs": [],
   "source": [
    " df = df[~df['title'].isnull()] # Removing the rows with missing values in title column"
   ]
  },
  {
   "cell_type": "code",
   "execution_count": 58,
   "metadata": {},
   "outputs": [
    {
     "data": {
      "text/plain": [
       "id                            0\n",
       "open_acc                      0\n",
       "revol_bal                     0\n",
       "revol_util                    0\n",
       "total_acc                     0\n",
       "initial_list_status           0\n",
       "out_prncp                     0\n",
       "out_prncp_inv                 0\n",
       "total_pymnt                   0\n",
       "total_pymnt_inv               0\n",
       "total_rec_prncp               0\n",
       "total_rec_int                 0\n",
       "total_rec_late_fee            0\n",
       "recoveries                    0\n",
       "collection_recovery_fee       0\n",
       "last_pymnt_d                  0\n",
       "last_pymnt_amnt               0\n",
       "last_credit_pull_d            0\n",
       "collections_12_mths_ex_med    0\n",
       "policy_code                   0\n",
       "application_type              0\n",
       "acc_now_delinq                0\n",
       "chargeoff_within_12_mths      0\n",
       "delinq_amnt                   0\n",
       "pub_rec_bankruptcies          0\n",
       "pub_rec                       0\n",
       "inq_last_6mths                0\n",
       "member_id                     0\n",
       "earliest_cr_line              0\n",
       "loan_amnt                     0\n",
       "funded_amnt                   0\n",
       "funded_amnt_inv               0\n",
       "term                          0\n",
       "int_rate                      0\n",
       "installment                   0\n",
       "grade                         0\n",
       "sub_grade                     0\n",
       "emp_title                     0\n",
       "emp_length                    0\n",
       "home_ownership                0\n",
       "annual_inc                    0\n",
       "verification_status           0\n",
       "issue_d                       0\n",
       "loan_status                   0\n",
       "pymnt_plan                    0\n",
       "url                           0\n",
       "purpose                       0\n",
       "title                         0\n",
       "zip_code                      0\n",
       "addr_state                    0\n",
       "dti                           0\n",
       "delinq_2yrs                   0\n",
       "tax_liens                     0\n",
       "dtype: int64"
      ]
     },
     "execution_count": 58,
     "metadata": {},
     "output_type": "execute_result"
    }
   ],
   "source": [
    "# Checking the missing values in the dataset again\n",
    "df.isnull().sum().sort_values(ascending=False)"
   ]
  },
  {
   "cell_type": "code",
   "execution_count": 59,
   "metadata": {},
   "outputs": [
    {
     "name": "stdout",
     "output_type": "stream",
     "text": [
      "<class 'pandas.core.frame.DataFrame'>\n",
      "Index: 39531 entries, 0 to 39665\n",
      "Data columns (total 53 columns):\n",
      " #   Column                      Non-Null Count  Dtype  \n",
      "---  ------                      --------------  -----  \n",
      " 0   id                          39531 non-null  int64  \n",
      " 1   member_id                   39531 non-null  int64  \n",
      " 2   loan_amnt                   39531 non-null  int64  \n",
      " 3   funded_amnt                 39531 non-null  int64  \n",
      " 4   funded_amnt_inv             39531 non-null  float64\n",
      " 5   term                        39531 non-null  object \n",
      " 6   int_rate                    39531 non-null  object \n",
      " 7   installment                 39531 non-null  float64\n",
      " 8   grade                       39531 non-null  object \n",
      " 9   sub_grade                   39531 non-null  object \n",
      " 10  emp_title                   39531 non-null  object \n",
      " 11  emp_length                  39531 non-null  object \n",
      " 12  home_ownership              39531 non-null  object \n",
      " 13  annual_inc                  39531 non-null  float64\n",
      " 14  verification_status         39531 non-null  object \n",
      " 15  issue_d                     39531 non-null  object \n",
      " 16  loan_status                 39531 non-null  object \n",
      " 17  pymnt_plan                  39531 non-null  object \n",
      " 18  url                         39531 non-null  object \n",
      " 19  purpose                     39531 non-null  object \n",
      " 20  title                       39531 non-null  object \n",
      " 21  zip_code                    39531 non-null  object \n",
      " 22  addr_state                  39531 non-null  object \n",
      " 23  dti                         39531 non-null  float64\n",
      " 24  delinq_2yrs                 39531 non-null  int64  \n",
      " 25  earliest_cr_line            39531 non-null  object \n",
      " 26  inq_last_6mths              39531 non-null  int64  \n",
      " 27  open_acc                    39531 non-null  int64  \n",
      " 28  pub_rec                     39531 non-null  int64  \n",
      " 29  revol_bal                   39531 non-null  int64  \n",
      " 30  revol_util                  39531 non-null  object \n",
      " 31  total_acc                   39531 non-null  int64  \n",
      " 32  initial_list_status         39531 non-null  object \n",
      " 33  out_prncp                   39531 non-null  float64\n",
      " 34  out_prncp_inv               39531 non-null  float64\n",
      " 35  total_pymnt                 39531 non-null  float64\n",
      " 36  total_pymnt_inv             39531 non-null  float64\n",
      " 37  total_rec_prncp             39531 non-null  float64\n",
      " 38  total_rec_int               39531 non-null  float64\n",
      " 39  total_rec_late_fee          39531 non-null  float64\n",
      " 40  recoveries                  39531 non-null  float64\n",
      " 41  collection_recovery_fee     39531 non-null  float64\n",
      " 42  last_pymnt_d                39531 non-null  object \n",
      " 43  last_pymnt_amnt             39531 non-null  float64\n",
      " 44  last_credit_pull_d          39531 non-null  object \n",
      " 45  collections_12_mths_ex_med  39531 non-null  float64\n",
      " 46  policy_code                 39531 non-null  int64  \n",
      " 47  application_type            39531 non-null  object \n",
      " 48  acc_now_delinq              39531 non-null  int64  \n",
      " 49  chargeoff_within_12_mths    39531 non-null  float64\n",
      " 50  delinq_amnt                 39531 non-null  int64  \n",
      " 51  pub_rec_bankruptcies        39531 non-null  float64\n",
      " 52  tax_liens                   39531 non-null  float64\n",
      "dtypes: float64(18), int64(13), object(22)\n",
      "memory usage: 16.3+ MB\n"
     ]
    }
   ],
   "source": [
    "df.info()"
   ]
  },
  {
   "cell_type": "code",
   "execution_count": 60,
   "metadata": {},
   "outputs": [
    {
     "data": {
      "text/plain": [
       "(39531, 53)"
      ]
     },
     "execution_count": 60,
     "metadata": {},
     "output_type": "execute_result"
    }
   ],
   "source": [
    "df.shape"
   ]
  },
  {
   "cell_type": "code",
   "execution_count": 64,
   "metadata": {},
   "outputs": [
    {
     "data": {
      "text/plain": [
       "99.53168668328424"
      ]
     },
     "execution_count": 64,
     "metadata": {},
     "output_type": "execute_result"
    }
   ],
   "source": [
    "# number of records in the dataset after removing the missing values as a percentage of the original dataset\n",
    "(39531/39717)*100"
   ]
  },
  {
   "cell_type": "code",
   "execution_count": 65,
   "metadata": {},
   "outputs": [
    {
     "data": {
      "text/plain": [
       "['issue_d', 'last_pymnt_d', 'last_credit_pull_d']"
      ]
     },
     "execution_count": 65,
     "metadata": {},
     "output_type": "execute_result"
    }
   ],
   "source": [
    "# finding the columns with date values\n",
    "date_columns = [col for col in df.columns if col.endswith('_d')]\n",
    "date_columns"
   ]
  },
  {
   "cell_type": "code",
   "execution_count": 69,
   "metadata": {},
   "outputs": [
    {
     "data": {
      "text/plain": [
       "issue_d               datetime64[ns]\n",
       "earliest_cr_line      datetime64[ns]\n",
       "last_pymnt_d          datetime64[ns]\n",
       "last_credit_pull_d    datetime64[ns]\n",
       "dtype: object"
      ]
     },
     "execution_count": 69,
     "metadata": {},
     "output_type": "execute_result"
    }
   ],
   "source": [
    "date_columns = ['issue_d', 'earliest_cr_line', 'last_pymnt_d', 'last_credit_pull_d']\n",
    "#change the date columns to datetime format\n",
    "for col in date_columns:\n",
    "    df[col] = pd.to_datetime(df[col], format='%b-%y')\n",
    "df[date_columns].dtypes"
   ]
  },
  {
   "cell_type": "code",
   "execution_count": 70,
   "metadata": {},
   "outputs": [
    {
     "data": {
      "text/plain": [
       "id                                     int64\n",
       "member_id                              int64\n",
       "loan_amnt                              int64\n",
       "funded_amnt                            int64\n",
       "funded_amnt_inv                      float64\n",
       "term                                  object\n",
       "int_rate                              object\n",
       "installment                          float64\n",
       "grade                                 object\n",
       "sub_grade                             object\n",
       "emp_title                             object\n",
       "emp_length                            object\n",
       "home_ownership                        object\n",
       "annual_inc                           float64\n",
       "verification_status                   object\n",
       "issue_d                       datetime64[ns]\n",
       "loan_status                           object\n",
       "pymnt_plan                            object\n",
       "url                                   object\n",
       "purpose                               object\n",
       "title                                 object\n",
       "zip_code                              object\n",
       "addr_state                            object\n",
       "dti                                  float64\n",
       "delinq_2yrs                            int64\n",
       "earliest_cr_line              datetime64[ns]\n",
       "inq_last_6mths                         int64\n",
       "open_acc                               int64\n",
       "pub_rec                                int64\n",
       "revol_bal                              int64\n",
       "revol_util                            object\n",
       "total_acc                              int64\n",
       "initial_list_status                   object\n",
       "out_prncp                            float64\n",
       "out_prncp_inv                        float64\n",
       "total_pymnt                          float64\n",
       "total_pymnt_inv                      float64\n",
       "total_rec_prncp                      float64\n",
       "total_rec_int                        float64\n",
       "total_rec_late_fee                   float64\n",
       "recoveries                           float64\n",
       "collection_recovery_fee              float64\n",
       "last_pymnt_d                  datetime64[ns]\n",
       "last_pymnt_amnt                      float64\n",
       "last_credit_pull_d            datetime64[ns]\n",
       "collections_12_mths_ex_med           float64\n",
       "policy_code                            int64\n",
       "application_type                      object\n",
       "acc_now_delinq                         int64\n",
       "chargeoff_within_12_mths             float64\n",
       "delinq_amnt                            int64\n",
       "pub_rec_bankruptcies                 float64\n",
       "tax_liens                            float64\n",
       "dtype: object"
      ]
     },
     "execution_count": 70,
     "metadata": {},
     "output_type": "execute_result"
    }
   ],
   "source": [
    "# Checking the data types of the columns\n",
    "df.dtypes"
   ]
  },
  {
   "cell_type": "code",
   "execution_count": 71,
   "metadata": {},
   "outputs": [
    {
     "data": {
      "text/plain": [
       "grade\n",
       "B    11986\n",
       "A    10056\n",
       "C     8046\n",
       "D     5271\n",
       "E     2820\n",
       "F     1040\n",
       "G      312\n",
       "Name: count, dtype: int64"
      ]
     },
     "execution_count": 71,
     "metadata": {},
     "output_type": "execute_result"
    }
   ],
   "source": [
    "# checking grade column\n",
    "df['grade'].value_counts()"
   ]
  },
  {
   "cell_type": "code",
   "execution_count": 72,
   "metadata": {},
   "outputs": [
    {
     "data": {
      "text/plain": [
       "sub_grade\n",
       "B3    2914\n",
       "A4    2881\n",
       "A5    2736\n",
       "B5    2697\n",
       "B4    2499\n",
       "C1    2127\n",
       "B2    2052\n",
       "C2    1994\n",
       "B1    1824\n",
       "A3    1806\n",
       "C3    1520\n",
       "A2    1496\n",
       "D2    1342\n",
       "C4    1228\n",
       "C5    1177\n",
       "D3    1166\n",
       "A1    1137\n",
       "D4     975\n",
       "D1     920\n",
       "D5     868\n",
       "E1     762\n",
       "E2     647\n",
       "E3     547\n",
       "E4     453\n",
       "E5     411\n",
       "F1     327\n",
       "F2     247\n",
       "F3     185\n",
       "F4     164\n",
       "F5     117\n",
       "G1     101\n",
       "G2      77\n",
       "G4      56\n",
       "G3      48\n",
       "G5      30\n",
       "Name: count, dtype: int64"
      ]
     },
     "execution_count": 72,
     "metadata": {},
     "output_type": "execute_result"
    }
   ],
   "source": [
    "# checking sub_grade column\n",
    "df['sub_grade'].value_counts()"
   ]
  },
  {
   "cell_type": "code",
   "execution_count": 73,
   "metadata": {},
   "outputs": [
    {
     "data": {
      "text/plain": [
       "home_ownership\n",
       "RENT        18793\n",
       "MORTGAGE    17602\n",
       "OWN          3039\n",
       "OTHER          96\n",
       "NONE            1\n",
       "Name: count, dtype: int64"
      ]
     },
     "execution_count": 73,
     "metadata": {},
     "output_type": "execute_result"
    }
   ],
   "source": [
    "# checking home_ownership column\n",
    "df['home_ownership'].value_counts()"
   ]
  },
  {
   "cell_type": "code",
   "execution_count": 74,
   "metadata": {},
   "outputs": [
    {
     "data": {
      "text/plain": [
       "verification_status\n",
       "Not Verified       16794\n",
       "Verified           12778\n",
       "Source Verified     9959\n",
       "Name: count, dtype: int64"
      ]
     },
     "execution_count": 74,
     "metadata": {},
     "output_type": "execute_result"
    }
   ],
   "source": [
    "# checking verification_status column\n",
    "df['verification_status'].value_counts()"
   ]
  },
  {
   "cell_type": "code",
   "execution_count": 75,
   "metadata": {},
   "outputs": [
    {
     "data": {
      "text/plain": [
       "purpose\n",
       "debt_consolidation    18585\n",
       "credit_card            5111\n",
       "other                  3963\n",
       "home_improvement       2959\n",
       "major_purchase         2175\n",
       "small_business         1811\n",
       "car                    1546\n",
       "wedding                 939\n",
       "medical                 691\n",
       "moving                  579\n",
       "vacation                378\n",
       "house                   378\n",
       "educational             314\n",
       "renewable_energy        102\n",
       "Name: count, dtype: int64"
      ]
     },
     "execution_count": 75,
     "metadata": {},
     "output_type": "execute_result"
    }
   ],
   "source": [
    "# checking purpose column\n",
    "df['purpose'].value_counts()"
   ]
  },
  {
   "cell_type": "code",
   "execution_count": 77,
   "metadata": {},
   "outputs": [
    {
     "data": {
      "text/plain": [
       "title\n",
       "Debt Consolidation                       2180\n",
       "Debt Consolidation Loan                  1724\n",
       "Personal Loan                             657\n",
       "Consolidation                             514\n",
       "debt consolidation                        505\n",
       "                                         ... \n",
       "auto/motorcycle                             1\n",
       "Collin                                      1\n",
       "Kill My Debt                                1\n",
       "POOL Loan                                   1\n",
       "Engineer seeks Environmental Training       1\n",
       "Name: count, Length: 19509, dtype: int64"
      ]
     },
     "execution_count": 77,
     "metadata": {},
     "output_type": "execute_result"
    }
   ],
   "source": [
    "# checking title column\n",
    "df['title'].value_counts()"
   ]
  },
  {
   "cell_type": "code",
   "execution_count": 78,
   "metadata": {},
   "outputs": [
    {
     "data": {
      "text/plain": [
       "addr_state\n",
       "CA    7069\n",
       "NY    3795\n",
       "FL    2855\n",
       "TX    2714\n",
       "NJ    1840\n",
       "IL    1522\n",
       "PA    1511\n",
       "VA    1400\n",
       "GA    1392\n",
       "MA    1327\n",
       "OH    1216\n",
       "MD    1042\n",
       "AZ     874\n",
       "WA     839\n",
       "CO     787\n",
       "NC     784\n",
       "CT     749\n",
       "MI     719\n",
       "MO     682\n",
       "MN     611\n",
       "NV     496\n",
       "SC     472\n",
       "WI     450\n",
       "AL     450\n",
       "OR     450\n",
       "LA     436\n",
       "KY     324\n",
       "OK     298\n",
       "KS     270\n",
       "UT     258\n",
       "AR     244\n",
       "DC     212\n",
       "RI     198\n",
       "NM     189\n",
       "WV     176\n",
       "HI     173\n",
       "NH     171\n",
       "DE     113\n",
       "MT      85\n",
       "WY      83\n",
       "AK      80\n",
       "SD      63\n",
       "VT      54\n",
       "MS      19\n",
       "TN      17\n",
       "ID       6\n",
       "IN       6\n",
       "IA       5\n",
       "NE       3\n",
       "ME       2\n",
       "Name: count, dtype: int64"
      ]
     },
     "execution_count": 78,
     "metadata": {},
     "output_type": "execute_result"
    }
   ],
   "source": [
    "# checking addr_state column\n",
    "df['addr_state'].value_counts()"
   ]
  },
  {
   "cell_type": "code",
   "execution_count": 79,
   "metadata": {},
   "outputs": [
    {
     "data": {
      "text/plain": [
       "initial_list_status\n",
       "f    39531\n",
       "Name: count, dtype: int64"
      ]
     },
     "execution_count": 79,
     "metadata": {},
     "output_type": "execute_result"
    }
   ],
   "source": [
    "# checking initial_list_status column\n",
    "df['initial_list_status'].value_counts()"
   ]
  },
  {
   "cell_type": "code",
   "execution_count": 80,
   "metadata": {},
   "outputs": [
    {
     "data": {
      "text/plain": [
       "application_type\n",
       "INDIVIDUAL    39531\n",
       "Name: count, dtype: int64"
      ]
     },
     "execution_count": 80,
     "metadata": {},
     "output_type": "execute_result"
    }
   ],
   "source": [
    "# checking application_type column\n",
    "df['application_type'].value_counts()\n"
   ]
  },
  {
   "cell_type": "code",
   "execution_count": 81,
   "metadata": {},
   "outputs": [
    {
     "data": {
      "text/plain": [
       "loan_status\n",
       "Fully Paid     32856\n",
       "Charged Off     5535\n",
       "Current         1140\n",
       "Name: count, dtype: int64"
      ]
     },
     "execution_count": 81,
     "metadata": {},
     "output_type": "execute_result"
    }
   ],
   "source": [
    "# checking the loan_status column\n",
    "df['loan_status'].value_counts()"
   ]
  },
  {
   "cell_type": "code",
   "execution_count": 82,
   "metadata": {},
   "outputs": [
    {
     "data": {
      "text/plain": [
       "emp_length\n",
       "10+ years    8865\n",
       "< 1 year     4544\n",
       "2 years      4370\n",
       "3 years      4080\n",
       "4 years      3416\n",
       "5 years      3264\n",
       "1 year       3214\n",
       "6 years      2222\n",
       "7 years      1766\n",
       "8 years      1472\n",
       "9 years      1252\n",
       "Missing      1066\n",
       "Name: count, dtype: int64"
      ]
     },
     "execution_count": 82,
     "metadata": {},
     "output_type": "execute_result"
    }
   ],
   "source": [
    "# checking the emp_length column\n",
    "df['emp_length'].value_counts()"
   ]
  },
  {
   "cell_type": "code",
   "execution_count": 83,
   "metadata": {},
   "outputs": [
    {
     "data": {
      "text/plain": [
       "term\n",
       "36 months    28934\n",
       "60 months    10597\n",
       "Name: count, dtype: int64"
      ]
     },
     "execution_count": 83,
     "metadata": {},
     "output_type": "execute_result"
    }
   ],
   "source": [
    "# checking the term column\n",
    "df['term'].value_counts()"
   ]
  },
  {
   "cell_type": "code",
   "execution_count": 85,
   "metadata": {},
   "outputs": [
    {
     "data": {
      "text/plain": [
       "int_rate\n",
       "10.99%    956\n",
       "13.49%    824\n",
       "11.49%    819\n",
       "7.51%     786\n",
       "7.88%     725\n",
       "         ... \n",
       "16.01%      1\n",
       "10.64%      1\n",
       "17.34%      1\n",
       "16.71%      1\n",
       "15.01%      1\n",
       "Name: count, Length: 371, dtype: int64"
      ]
     },
     "execution_count": 85,
     "metadata": {},
     "output_type": "execute_result"
    }
   ],
   "source": [
    "# checking the int_rate column\n",
    "df['int_rate'].value_counts()"
   ]
  },
  {
   "cell_type": "code",
   "execution_count": null,
   "metadata": {},
   "outputs": [],
   "source": []
  }
 ],
 "metadata": {
  "kernelspec": {
   "display_name": "base",
   "language": "python",
   "name": "python3"
  },
  "language_info": {
   "codemirror_mode": {
    "name": "ipython",
    "version": 3
   },
   "file_extension": ".py",
   "mimetype": "text/x-python",
   "name": "python",
   "nbconvert_exporter": "python",
   "pygments_lexer": "ipython3",
   "version": "3.12.7"
  }
 },
 "nbformat": 4,
 "nbformat_minor": 2
}
